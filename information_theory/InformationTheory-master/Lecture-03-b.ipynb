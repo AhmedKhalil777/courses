{
 "cells": [
  {
   "cell_type": "markdown",
   "metadata": {},
   "source": [
    "# بسم الله الرحمن الرحيم"
   ]
  },
  {
   "cell_type": "markdown",
   "metadata": {},
   "source": [
    "## Lecture 04\n",
    "### Probability Theory\n",
    "- Introdution to Probability Theory\n",
    "- Probability Distributions\n",
    "- Variance and Expectation\n",
    "- Special Random Variables"
   ]
  },
  {
   "cell_type": "markdown",
   "metadata": {},
   "source": [
    "### Why Probability Theory?\n",
    "- Probability theory provides a means of quantifying uncertainty\n",
    "- Provides axioms for deriving new uncertain statements\n",
    "- Very important in many fields, like\n",
    "  - Information Theory\n",
    "  - Artificial Intelligence\n",
    "    - Laws of probability tell us how AI should reason\n",
    "    - We can use probability theory to analyze the behavior and decisions of AI systems\n",
    "- The ability to reason in the presence of uncertainity"
   ]
  },
  {
   "cell_type": "markdown",
   "metadata": {},
   "source": [
    "### Sources of Uncertainty\n",
    "- Inherent stochasticity in the system being modeled; ex. model of quantam mechanics\n",
    "- Incomplete observability\n",
    "  - We do not have or cannot observe all the variables that drive the system; ex. economic models (stock market)\n",
    "- Incomplete modeling\n",
    "  - we use a model that discards some observed information; ex. a simplified model of the brain because we don't have enough resources for computation\n",
    "  "
   ]
  },
  {
   "cell_type": "markdown",
   "metadata": {},
   "source": [
    "### Types of Probability\n",
    "- Frequentist Probability\n",
    "  - The frequency of events\n",
    "  - The most widely known type\n",
    "  - Example:\n",
    "    - The chance of drawing a certain color of a ball from pool of balls\n",
    "- Baysian Probability\n",
    "  - The lesser thought about type of probability\n",
    "  - It is a degree of belief\n",
    "    - Example\n",
    "      - A doctor saying a patient has a 40 percent chance of having a flu; with particular conditions"
   ]
  },
  {
   "cell_type": "markdown",
   "metadata": {},
   "source": [
    "### Random Variables\n",
    "- A variable that can take on different values randomly\n",
    "- $x_{1} and x_{2}$ are possible values that variable $x$ could be\n",
    "- A probability distribution specifies how likely each value is to occur\n",
    "- It is not just a description of the possible states, however it must be coupled with the distribution that specifies how likely they states are\n",
    "- Random variables might be\n",
    "  - Discrete: has a finite or countable infinite number of states\n",
    "    - Not just integers, they can be name state, etc.\n",
    "  - Continous:\n",
    "    - Must be associated with a real value"
   ]
  },
  {
   "cell_type": "markdown",
   "metadata": {},
   "source": [
    "### Probability Mass Functions\n",
    "- Probability Distribution for Discrete Random Variables\n",
    "- Refered to as: *Probability Mass Function* (PMF)\n",
    "- Description of how likely a variable or a set of random variables is set to take each states\n",
    "- Three criterion for being a PMF\n",
    "  - The domain of $P$ must be the set of all possible states of $x$, where $P$ is the probability distribution\n",
    "  - $0 \\leq P(x) \\leq 1$ for all states\n",
    "    - 0: impossible state\n",
    "    - 1: certai state\n",
    "  - $\\sum_{x \\in X}P(x) = 1$\n",
    "    - Known as being normalized\n",
    "    - There is 100% chance that one of the states to be occupied\n",
    "    - Known as: normalized distribution\n",
    "- PMF always normalized"
   ]
  },
  {
   "cell_type": "markdown",
   "metadata": {},
   "source": [
    "### Types of Distributions\n",
    "- Joint Probability Distribution\n",
    "  - a probability mass function that acts on multiple variables\n",
    "  - $P(x = x, y = y)$ denotes that probability that $x = x$ and $y=y$ simultaneously\n",
    "  - meaning: Probability of two events occuring simultaneously\n",
    "- Uniform Distribution\n",
    "  - Each state of the distribution is equally likely\n",
    "  - $P(x=x_{i})=\\frac{1}{k}$\n",
    "  - $\\sum_{i}P(x=x_{i})=\\sum_{i}\\frac{1}{k}=\\frac{k}{k}=1$"
   ]
  },
  {
   "cell_type": "markdown",
   "metadata": {},
   "source": [
    "### Probability Density Functions\n",
    "- Prability distributions for continous variables are called probability density functions (PDF)\n",
    "- To be a PDF, the function $p$ must be the set of all possible states of $x$\n",
    "  - $p(x) \\geq 0$\n",
    "  - $\\int p(x)d(x)=1$\n",
    "- Note: we don't have the requirement of $\\leq 1$ so probability for continous variables can be greater than 1, or greater than 100%\n",
    "- We use integrals to normalize, so\n",
    "  - $\\int_{\\inf}^{\\inf} p(x)d(x)=1$ over all the possible states"
   ]
  },
  {
   "cell_type": "markdown",
   "metadata": {},
   "source": [
    "### Marginal Probability\n",
    "- The probability distribution over a subset of all the variables\n",
    "- When we don't have all the data points, we work over some of the variables\n",
    "- With discrete random variables\n",
    "  - If we know $P(x,y)$, we can find $P(x)$ with the *sum rule*\n",
    "    - $P(x=x)=\\sum_{y}P(x=x, y=y)$\n",
    "  - with continous random variables\n",
    "    - $p(x) = \\int p(x,y)dy$"
   ]
  },
  {
   "cell_type": "markdown",
   "metadata": {},
   "source": [
    "### Conditional Probability\n",
    "- The probability of some event, given that some other event has happened\n",
    "- $P(y=y | x=x)=\\frac{P(y=y, x=x)}{P(x=x)}$\n",
    "  - The conditional probability that y=y given x=x"
   ]
  },
  {
   "cell_type": "markdown",
   "metadata": {},
   "source": [
    "### Expectation\n",
    "- The expectation of some function $f(x)$ with respect to some probability distribution $P(x)$ is the mean value $f$ takes on when $x$ is drawn from $p$\n",
    "- $P$ here is the probability distribution\n",
    "- Expectation here means the average value / mean\n",
    "- For Discrete Variables\n",
    "  - $\\mathop{\\mathbb{E}}_{x \\sim P}[f(x)]=\\sum_{x}P(x)f(x)$\n",
    "- For Continous Variables\n",
    "  - $\\mathop{\\mathbb{E}}_{x \\sim P}[f(x)]=\\int p(x)f(x)dx$"
   ]
  },
  {
   "cell_type": "markdown",
   "metadata": {},
   "source": [
    "### Variance and Standard Deviation\n",
    "- Variance ($\\sigma^{2}$)\n",
    "  - The expectation of the squared deviation of a random variable from its mean\n",
    "  - Measures how far random numbers drawn from a probability distribution $P(x) are spread out from their average value$\n",
    "  - $Var(f(x)) = \\mathop{\\mathbb{E}}[(f(x) - \\mathop{\\mathbb{E}}[f(x)])^{2}]$"
   ]
  },
  {
   "cell_type": "markdown",
   "metadata": {},
   "source": [
    "### The Covariance\n",
    "- A measure of how much two variables are lineraly related to each other\n",
    "- $Cov(f(x),g(y)) = \\mathop{\\mathbb{E}}[(f(x) - \\mathop{\\mathbb{E}}[f(x)](g(y)-\\mathop{\\mathbb{E}}[g(y)])]$\n",
    "- High absolute value\n",
    "  - values are both far from their perspective means at the same time\n",
    "- Positive\n",
    "  - both variables take on large values simultaneously\n",
    "- Negative\n",
    "  - variables take on large values at different times"
   ]
  },
  {
   "cell_type": "markdown",
   "metadata": {},
   "source": [
    "### The Covariance Matrix\n",
    "- The covariance matrix of a random vector *x* is an $n*n$ matrix, such that\n",
    "  - $Cov(x)_{i,j}=Cov(x_{i},x_{j})$\n",
    "- The diagonal elements of the covariance matrix give the variance\n",
    "  - $Cov(x_{i},x_{i}) = Var(x_{i})$"
   ]
  },
  {
   "cell_type": "code",
   "execution_count": null,
   "metadata": {},
   "outputs": [],
   "source": []
  }
 ],
 "metadata": {
  "kernelspec": {
   "display_name": "Python 3",
   "language": "python",
   "name": "python3"
  },
  "language_info": {
   "codemirror_mode": {
    "name": "ipython",
    "version": 3
   },
   "file_extension": ".py",
   "mimetype": "text/x-python",
   "name": "python",
   "nbconvert_exporter": "python",
   "pygments_lexer": "ipython3",
   "version": "3.7.0"
  }
 },
 "nbformat": 4,
 "nbformat_minor": 2
}
