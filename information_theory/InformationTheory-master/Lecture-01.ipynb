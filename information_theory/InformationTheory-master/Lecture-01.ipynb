{
 "cells": [
  {
   "cell_type": "markdown",
   "metadata": {},
   "source": [
    "# بسم الله الرحمن الرحيم"
   ]
  },
  {
   "cell_type": "markdown",
   "metadata": {},
   "source": [
    "## Information Theory Course"
   ]
  },
  {
   "cell_type": "markdown",
   "metadata": {},
   "source": [
    "### Course Code: IS311T\n",
    "\n",
    "#### Core Course\n",
    "- Theory: 2\n",
    "- Tutorial: 3\n",
    "- TOT: 3\n",
    "\n",
    "#### Marks:\n",
    "- 25 Written\n",
    "- 75 Final\n",
    "- 100 Total"
   ]
  },
  {
   "cell_type": "markdown",
   "metadata": {},
   "source": [
    "#### Syllabus\n",
    "- Introduction of Information measures (entropy, mutual information) and basic properties\n",
    "- Typical sets and the Asymptotic Equipartition Property\n",
    "- Entropy rates for stochastic processes, Markov Chains\n",
    "- Data Compression / Lossless Source Coding\n",
    "- Huffman coding, Lempel-Ziv Compression\n",
    "- Channel coding, information capacity\n",
    "- The channel coding theorem for discrete memory less channels - random coding proof, error exponents\n",
    "- Converse to the channel coding theorem, joint source channel coding, feedback capacity\n",
    "- Differential entropy, Gaussian noise channels\n",
    "- Continous-time Gaussian channels, band-limited channels\n",
    "- Quantization/Rate Distortion theory"
   ]
  },
  {
   "cell_type": "markdown",
   "metadata": {},
   "source": [
    "#### Online Resources\n",
    "- Yury Polyanskiy. 6.441 Information Theory. Spring 2016. Massachusetts Institute of Technology: MIT OpenCourseWare, https://ocw.mit.edu. License: Creative Commons BY-NC-SA.\n",
    "- Course on Information Theory, Pattern Recognition, and Neural Networks http://www.inference.org.uk/mackay/itila/\n",
    "- https://www.itsoc.org/conferences/schools/past-schools/na-school-2009/material\n",
    "- http://people.seas.harvard.edu/~madhusudan/courses/Spring2016/\n",
    "- Introduction to Information Theory and Why you should care - https://recast.ai/blog/introduction-information-theory-care/"
   ]
  },
  {
   "cell_type": "markdown",
   "metadata": {},
   "source": [
    "### In the Beginning\n",
    "\n",
    "#### Let's agree on\n",
    "- **Academic Discipline** - An academic discipline or academic field is a branch of knowledge. It incorporates expertise, people, projects, communities, challenges, studies, inquiry, and research areas that are strongly associated with a given scholastic subject area or college department. For example, the branches of science are commonly referred to as the scientific disciplines, e.g. physics, mathematics, and biology. Individuals associated with academic disciplines are commonly referred to as experts or specialists. Others, who may have studied liberal arts or systems theory rather than concentrating in a specific academic discipline, are classified as generalists.\n",
    "- **Interdisiplinary** - or interdisciplinary studies involves the *combining of two or more academic disciplines into one activity* (e.g., a research project).It draws knowledge from several other fields like sociology, anthropology, psychology, economics etc. It is about creating somet by thinking across boundaries. It is related to an interdiscipline or an interdisciplinary field, which is an organizational unit that crosses traditional boundaries between academic disciplines or schools of thought, as new needs and professions emerge. Large engineering teams are usually interdisciplinary, as a power station or mobile phone or other project requires the melding of several specialties.\n",
    "- **Transdisciplinarity** - connotes a *research strategy that crosses many disciplinary boundaries to create a holistic approach*. It applies to research efforts focused on problems that cross the boundaries of two or more disciplines, such as research on effective information systems for biomedical research (bioinformatics), and can refer to concepts or methods that were originally developed by one discipline, but are now used by several others, such as ethnography, a field research method originally developed in anthropology but now widely used by other disciplines. The Belmont Forum elaborated that a transdisciplinary approach is enabling inputs and scoping across scientific and non-scientific stakeholder communities and facilitating a systemic way of addressing a challenge. This includes initiatives that support the capacity building required for the successful transdisciplinary formulation and implementation of research actions.\n",
    "- **Cross-disciplinary** - knowledge is that which *explains aspects of one discipline in terms of another*. Common examples of cross-disciplinary approaches are studies of the physics of music or the politics of literature.\n",
    "\n",
    "#### Not to be confused with:\n",
    "- **Computer Information System(s) (CIS)** - is a field studying computers and algorithmic processes, including their principles, their software and hardware designs, their applications, and their impact on society,whereas *Information Systems* emphasizes functionality over design. Several Information Systems scholars have debated the nature and foundations of Information Systems which have its roots in other reference disciplines such as Computer Science, Engineering, Mathematics, Management Science, Cybernetics, and others. \n",
    "Information systems also can be defined as a collection of hardware, software, data, people and procedures that work together to produce quality information.\n",
    "- **Information System** - is an organized system for the collection, organization, storage and communication of information.\n",
    "\n",
    "More specifically, it is the study of complementary networks that people and organizations use to collect, filter, process, create and distribute data.\n",
    "\n",
    "Further, \"Information System (IS) is a group of components that interact to produce information.\n",
    "\n",
    "It focuses on the internal rather than the external.\" Information system can also be described as a combination of hardware, software, data, business process and functions which can be used to increase efficiency and management of an organization.\n",
    "\n",
    "Information Systems is the expression used to describe an Automated System (which may be referred to as a Computerized Information System), be it manual, which covers people, machines or organized methods to collect, process, transmit and disseminate data representing information for the user or client.\n",
    "- **Information Science** - a field primarily concerned with the analysis, collection, classification, manipulation, storage, retrieval, movement, dissemination, and protection of information. [1] Practitioners within and outside the field study application and usage of knowledge in organizations along with the interaction between people, organizations, and any existing information systems with the aim of creating, replacing, improving, or understanding information systems. Historically, information science is associated with computer science, library science, and telecommunications.[2] However, information science also incorporates aspects of diverse fields such as archival science, cognitive science, commerce, law, museology, management, mathematics, philosophy, public policy, and social sciences.\n",
    "\n",
    "- **Informatics** is a branch of information engineering. It involves the practice of information processing and the engineering of information systems, and as an academic field it is an applied form of information science. The field considers the interaction between humans and information alongside the construction of interfaces, organisations, technologies and systems. As such, the field of informatics has great breadth and encompasses many subspecialties, including disciplines of computer science, information systems, information technology and statistics. Since the advent of computers, individuals and organizations increasingly process information digitally. This has led to the study of informatics with computational, mathematical, biological, cognitive and social aspects, including study of the social impact of information technologies\n",
    "\n",
    "**References**\n",
    "1. Stock, W.G., & Stock, M. (2013). Handbook of Information Science. Berlin, Boston, MA: De Gruyter Saur.\n",
    "2. Yan, Xue-Shan (2011-07-23). Information Science: Its Past, Present and Future (PDF). doi:10.3390/info2030510. Retrieved 2017-11-05."
   ]
  },
  {
   "cell_type": "markdown",
   "metadata": {},
   "source": [
    "![](imgs/Lecture-01/IS-Relationships-Chart.jpg)"
   ]
  },
  {
   "cell_type": "markdown",
   "metadata": {},
   "source": [
    "## Information Theory \n",
    "- studies the quantification, storage, and communication of information.\n",
    "\n",
    "- **Quantification** - In mathematics and empirical science, quantification (or quantitation) is the act of counting and measuring that maps human sense observations and experiences into quantities. Quantification in this sense is fundamental to the scientific method.\n",
    "- **Computer data storage** - often called storage or memory, is a technology consisting of computer components and recording media that are used to retain digital data. It is a core function and fundamental component of computers.\n",
    "- **Communication** - Telecommunication is the transmission of signs, signals, messages, words, writings, images and sounds or information of any nature by wire, radio, optical or electromagnetic systems.Telecommunication occurs when the exchange of information between communication participants includes the use of technology. It is transmitted either electrically over physical media, such as cables, or via electromagnetic radiation. Such transmission paths are often divided into communication channels which afford the advantages of multiplexing. The term telecommunications is often used in its plural form because it involves many different technologies.\n",
    "- **Information** is any entity or form that provides the answer to a question of some kind or resolves uncertainty. It is thus related to data and knowledge, as data represents values attributed to parameters, and knowledge signifies understanding of real things or abstract concepts. As it regards data, the information's existence is not necessarily coupled to an observer (it exists beyond an event horizon, for example), while in the case of knowledge, the information requires a cognitive observer."
   ]
  },
  {
   "cell_type": "markdown",
   "metadata": {},
   "source": [
    "### Let's focus more on Information - Part 1\n",
    "### Code / Encode / Decode / Encrypt\n",
    "- Information is conveyed either as the content of a message or through direct or indirect observation. That which is perceived can be construed as a message in its own right, and in that sense, information is always conveyed as the content of a message.\n",
    "- Information can be encoded into various forms for transmission and interpretation (for example, information may be encoded into a sequence of signs, or transmitted via a signal). It can also be encrypted for safe storage and communication.\n",
    "  - In communications and information processing, **code** is a system of rules to convert information—such as a letter, word, sound, image, or gesture—into another form or representation, sometimes shortened or secret, for communication through a communication channel or storage in a storage medium. An early example is the invention of language, which enabled a person, through speech, to communicate what he or she saw, heard, felt, or thought to others. But speech limits the range of communication to the distance a voice can carry, and limits the audience to those present when the speech is uttered. The invention of writing, which converted spoken language into visual symbols, extended the range of communication across space and time.\n",
    "  - The process of **encoding** converts information from a source into symbols for communication or storage. \n",
    "  - **Decoding** is the reverse process, converting code symbols back into a form that the recipient understand, such as English or Spanish.\n",
    "  - One reason for coding is to enable communication in places where ordinary plain language, spoken or written, is difficult or impossible. For example, semaphore, where the configuration of flags held by a signaler or the arms of a semaphore tower encodes parts of the message, typically individual letters and numbers. Another person standing a great distance away can interpret the flags and reproduce the words sent.\n",
    "  - ![](imgs/Lecture-01/International_Morse_Code.svg)\n",
    "  - In cryptography, **encryption** is the process of encoding a message or information in such a way that only authorized parties can access it and those who are not authorized cannot. \n",
    "    - Encryption does not itself prevent interference, but denies the intelligible content to a would-be interceptor. \n",
    "    - In an encryption scheme, the intended information or message, referred to as plaintext, is encrypted using an encryption algorithm – a cipher – generating ciphertext that can be read only if decrypted. \n",
    "    - For technical reasons, an encryption scheme usually uses a pseudo-random encryption key generated by an algorithm. \n",
    "    - It is in principle possible to decrypt the message without possessing the key, but, for a well-designed encryption scheme, considerable computational resources and skills are required. \n",
    "    - An authorized recipient can easily decrypt the message with the key provided by the originator to recipients but not to unauthorized users."
   ]
  },
  {
   "cell_type": "markdown",
   "metadata": {},
   "source": [
    "### Let's focus more on Information - Part 2\n",
    "### Transmission / Signal\n",
    "- In telecommunications, transmission (abbreviations: TX, Xmit) is the process of sending and propagating an analogue or digital information signal over a physical point-to-point or point-to-multipoint transmission medium, either wired, optical fiber or wireless.\n",
    "- One example of transmission is the sending of a signal with limited duration, for example a block or packet of data, a phone call, or an email.\n",
    "- Transmission technologies and schemes typically refer to physical layer protocol duties such as modulation, demodulation, line coding, equalization, error control, bit synchronization and multiplexing, but the term may also **involve higher-layer protocol duties**, for example, digitizing an analog message signal, and data compression.\n",
    "- Transmission of a digital message, or of a digitized analog signal, is known as digital communication.\n",
    "### Signal\n",
    "- In communication systems, signal processing, and electrical engineering, a signal is a **function that \"conveys information about the behavior or attributes of some phenomenon\"**. \n",
    "- A signal may also be defined as an **\"observable change in a quantifiable entity\"**. \n",
    "- In the physical world, any **quantity exhibiting variation in time or variation in space (such as an image) is potentially a signal that might provide information on the status of a physical system, or convey a message between observers, among other possibilities.**\n",
    "- The IEEE Transactions on Signal Processing states that the term \"signal\" includes audio, video, speech, image, communication, geophysical, sonar, radar, medical and musical signals.\n",
    "- In a later development, a signal is redefined as an **\"observable change in a quantifiable entity\"**; here, anything which is only a function of space, such as an image, is excluded from the category of signals. Also, it is stated that a signal may or may not contain any information."
   ]
  },
  {
   "cell_type": "markdown",
   "metadata": {},
   "source": [
    "## Practical Aspects of the Course\n",
    "#### Using Python and NumPy through Jupyter Notebook\n",
    "#### Why we use Jupyter Notebook\n",
    "#### Why use Python with Information Theory\n",
    "- https://www.frontiersin.org/articles/10.3389/neuro.11.004.2009/full\n",
    "#### More information about NumPy\n",
    "#### Steps to run Jupyter Notebook\n",
    "- Make sure you have Python installed on your Operating System\n",
    "- Run the following command on the terminal\n",
    "  - pip3 install jupyterlab\n",
    "  - jupyter lab\n",
    "- You will get something like this on the terminal: http://localhost:8888/?token=SOME-VALUE-GOES-HERE\n",
    "- Copy the previous URL, open your browser, and paste the URL\n",
    "- You are ready to Go!"
   ]
  },
  {
   "cell_type": "code",
   "execution_count": 1,
   "metadata": {},
   "outputs": [
    {
     "name": "stdout",
     "output_type": "stream",
     "text": [
      "Python Version: 3.7.0 (default, Jun 28 2018, 08:04:48) [MSC v.1912 64 bit (AMD64)]\n",
      "NumPy Version: 1.15.1\n"
     ]
    }
   ],
   "source": [
    "# Import Modules\n",
    "\n",
    "import sys\n",
    "\n",
    "# Scientific Computing in Python\n",
    "import numpy as np\n",
    "\n",
    "# Get some information\n",
    "print('Python Version: {}'.format(sys.version))\n",
    "print('NumPy Version: {}'.format(np.__version__))\n",
    "\n",
    "# Make sure you get the messages before moving to the next step"
   ]
  },
  {
   "cell_type": "markdown",
   "metadata": {},
   "source": [
    "## Let's review some Linear Algebra\n",
    "### Scalar\n",
    "- (x) - a single number or value\n",
    "- denoted by a lower case letter, (x) in this case\n",
    "### Vector\n",
    "- (**x**) an array of numbers, either in a row or in a column, identified by an index\n",
    "- denoted by a lower case bold letter\n",
    "- might also denoted by a lower case letter, with bar on the top ($\\bar{x}$)\n",
    "- Indexing is Zero based\n",
    "- 1-Dimensional\n",
    "### Matrices\n",
    "- (**X**) a 2-D array of numbers, where each element i identified by two indeces.\n",
    "- denoted by a bold and capital case letter\n",
    "- 2-Dimensional\n",
    "- Indexing is Zero based\n",
    "- Dimensions are reported in (Rows, Columns) format\n",
    "- $\\begin{bmatrix}\n",
    "1 & 2\\\\\n",
    "3 & 4\\\\\n",
    "\\end{bmatrix}$ - dimensions(2,3)\n",
    "#### Matrix Operations\n",
    "- Given the following Matrices\n",
    "  - **A** = $\\begin{bmatrix} 1 & 2 & 3\\\\ 4 & 5 & 7 \\\\ \\end{bmatrix}$\n",
    "  - **B** = $\\begin{bmatrix} 4 & 5 & 6 \\\\ 7 & 8 & 9 \\\\ \\end{bmatrix}$\n",
    "    - Addition: A + B = $\\begin{bmatrix} 5 & 7 & 9 \\\\ 11 & 13 & 16 \\\\ \\end{bmatrix}$\n",
    "    - Subtraction: A - B\n",
    "    - Multiplication: A * B\n",
    "\n",
    "### Tensors"
   ]
  },
  {
   "cell_type": "code",
   "execution_count": 2,
   "metadata": {},
   "outputs": [
    {
     "data": {
      "text/plain": [
       "6"
      ]
     },
     "execution_count": 2,
     "metadata": {},
     "output_type": "execute_result"
    }
   ],
   "source": [
    "# define scalar\n",
    "x = 6\n",
    "x"
   ]
  },
  {
   "cell_type": "code",
   "execution_count": 3,
   "metadata": {},
   "outputs": [
    {
     "data": {
      "text/plain": [
       "array([1, 2, 3, 4, 5])"
      ]
     },
     "execution_count": 3,
     "metadata": {},
     "output_type": "execute_result"
    }
   ],
   "source": [
    "# define vector\n",
    "x = np.array((1,2,3,4,5))\n",
    "x"
   ]
  },
  {
   "cell_type": "code",
   "execution_count": 4,
   "metadata": {},
   "outputs": [
    {
     "name": "stdout",
     "output_type": "stream",
     "text": [
      "Vector x Dimensions: (5,)\n",
      "Vector x Size: 5\n"
     ]
    }
   ],
   "source": [
    "# Get vector properties / characteristics\n",
    "print('Vector x Dimensions: {}'.format(x.shape))\n",
    "print('Vector x Size: {}'.format(x.size))"
   ]
  },
  {
   "cell_type": "code",
   "execution_count": 5,
   "metadata": {},
   "outputs": [],
   "source": [
    "# define a Matrix\n",
    "x = np.matrix(([1,2,3,10],[4,5,6,11],[7,8,9,12]))"
   ]
  },
  {
   "cell_type": "code",
   "execution_count": 6,
   "metadata": {},
   "outputs": [
    {
     "name": "stdout",
     "output_type": "stream",
     "text": [
      "Matrix x Dimensions: (3, 4)\n",
      "Matrix x Size: 12\n"
     ]
    }
   ],
   "source": [
    "# Get Matrix properties / characteristics\n",
    "# Matrix size: no. of elements in matrix\n",
    "# Matrix Dimensions (row, col)\n",
    "print('Matrix x Dimensions: {}'.format(x.shape))\n",
    "print('Matrix x Size: {}'.format(x.size))"
   ]
  },
  {
   "cell_type": "code",
   "execution_count": 7,
   "metadata": {},
   "outputs": [
    {
     "data": {
      "text/plain": [
       "array([[1, 1, 1, 1],\n",
       "       [1, 1, 1, 1],\n",
       "       [1, 1, 1, 1]])"
      ]
     },
     "execution_count": 7,
     "metadata": {},
     "output_type": "execute_result"
    }
   ],
   "source": [
    "# define Matrix of any dimension\n",
    "np.ones((3,4),dtype=int)"
   ]
  },
  {
   "cell_type": "code",
   "execution_count": 8,
   "metadata": {},
   "outputs": [
    {
     "data": {
      "text/plain": [
       "array([[0., 0.],\n",
       "       [0., 0.]])"
      ]
     },
     "execution_count": 8,
     "metadata": {},
     "output_type": "execute_result"
    }
   ],
   "source": [
    "np.zeros((2,2))"
   ]
  },
  {
   "cell_type": "code",
   "execution_count": 9,
   "metadata": {},
   "outputs": [
    {
     "data": {
      "text/plain": [
       "array([[[1., 1., 1.],\n",
       "        [1., 1., 1.],\n",
       "        [1., 1., 1.]],\n",
       "\n",
       "       [[1., 1., 1.],\n",
       "        [1., 1., 1.],\n",
       "        [1., 1., 1.]],\n",
       "\n",
       "       [[1., 1., 1.],\n",
       "        [1., 1., 1.],\n",
       "        [1., 1., 1.]]])"
      ]
     },
     "execution_count": 9,
     "metadata": {},
     "output_type": "execute_result"
    }
   ],
   "source": [
    "# Tensors\n",
    "np.ones((3,3,3))"
   ]
  },
  {
   "cell_type": "code",
   "execution_count": 10,
   "metadata": {},
   "outputs": [
    {
     "name": "stdout",
     "output_type": "stream",
     "text": [
      "[[1 1 1 1 1]\n",
      " [1 1 1 1 1]\n",
      " [1 1 1 1 1]\n",
      " [1 1 1 1 1]\n",
      " [1 1 1 1 1]]\n"
     ]
    }
   ],
   "source": [
    "# indexing\n",
    "x = np.ones((5,5), dtype=int)\n",
    "# note the difference btween x and print(x) - try it yourself\n",
    "print(x)"
   ]
  },
  {
   "cell_type": "code",
   "execution_count": 11,
   "metadata": {},
   "outputs": [
    {
     "name": "stdout",
     "output_type": "stream",
     "text": [
      "[5 7 9]\n"
     ]
    }
   ],
   "source": [
    "# Matrix Addition\n",
    "a = np.array((1,2,3))\n",
    "b = np.array((4,5,6))\n",
    "print(a+b)"
   ]
  },
  {
   "cell_type": "code",
   "execution_count": 12,
   "metadata": {},
   "outputs": [
    {
     "name": "stdout",
     "output_type": "stream",
     "text": [
      "[-3 -3 -3]\n"
     ]
    }
   ],
   "source": [
    "print(a-b)"
   ]
  },
  {
   "cell_type": "code",
   "execution_count": 13,
   "metadata": {},
   "outputs": [
    {
     "name": "stdout",
     "output_type": "stream",
     "text": [
      "[ 4 10 18]\n"
     ]
    }
   ],
   "source": [
    "print(a*b)"
   ]
  },
  {
   "cell_type": "code",
   "execution_count": null,
   "metadata": {},
   "outputs": [],
   "source": []
  },
  {
   "cell_type": "code",
   "execution_count": null,
   "metadata": {},
   "outputs": [],
   "source": []
  },
  {
   "cell_type": "code",
   "execution_count": null,
   "metadata": {},
   "outputs": [],
   "source": []
  },
  {
   "cell_type": "code",
   "execution_count": null,
   "metadata": {},
   "outputs": [],
   "source": []
  },
  {
   "cell_type": "code",
   "execution_count": null,
   "metadata": {},
   "outputs": [],
   "source": []
  }
 ],
 "metadata": {
  "kernelspec": {
   "display_name": "Python 3",
   "language": "python",
   "name": "python3"
  },
  "language_info": {
   "codemirror_mode": {
    "name": "ipython",
    "version": 3
   },
   "file_extension": ".py",
   "mimetype": "text/x-python",
   "name": "python",
   "nbconvert_exporter": "python",
   "pygments_lexer": "ipython3",
   "version": "3.7.0"
  }
 },
 "nbformat": 4,
 "nbformat_minor": 2
}
