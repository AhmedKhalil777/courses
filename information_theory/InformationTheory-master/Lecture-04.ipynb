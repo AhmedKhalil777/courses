{
 "cells": [
  {
   "cell_type": "markdown",
   "metadata": {
    "slideshow": {
     "slide_type": "-"
    }
   },
   "source": [
    "# بسم الله الرحمن الرحيم"
   ]
  },
  {
   "cell_type": "markdown",
   "metadata": {
    "slideshow": {
     "slide_type": "slide"
    }
   },
   "source": [
    "### The Rules of Probability\n",
    "#### Independent Outcomes\n",
    "- If a set of individual outcomes are indepndent then the probability of that outcome set is obtained by multiplying the probabilities of the individual outcomes together\n",
    "- Example\n",
    "  - consider a coin for which the probability of head $x_{h}$ is $p(x_{h})=0.9$ and the probability of a tail $p(x_{t})=(1-0.9)=0.1$\n",
    "  - If we flip this coin twice then there are four possible pairs out outcomes:\n",
    "    - two heads $(x_{h},x_{h})$, two tails ($x_{t},x_{t}$), a head followed by a tail($x_{h},x_{t}$), and a tail followed by a head ($x_{t},x_{h}$)\n",
    "  - The probability that the first outcome is a head and the second outcome is a tail can be represented as a **joint probability** $p(x_{h},x{t})$\n",
    "  - In order to work out some averages, imagine that we perform 100 pairs of coin flips. We label each flip according to whether it came first or second within its pair, so we have 100 **first flip** outcomes, and 100 corresponding **second flip** outcomes\n",
    "\n",
    "| Outcome | h    | t    | {h,h}|{t,t} |(h,t) |(t,h) |{t,h} |\n",
    "| ------- |:----:| ---- |:----:|:----:|:----:|:----:| ----:|\n",
    "| N       | 90   | 10   | 81   | 1    | 9    | 9    | 18   |\n",
    "| N/100   | 0.90 | 0.10 | 0.81 | 0.01 | 0.09 | 0.09 | 0.18 |\n",
    "\n",
    "  - ordered sequences (permutations) are written in rount brackets ()\n",
    "  - unordered sets (combinations) are written in curly braces {}\n",
    "\n",
    "- Conditional Probability\n",
    "  - "
   ]
  },
  {
   "cell_type": "markdown",
   "metadata": {
    "slideshow": {
     "slide_type": "slide"
    }
   },
   "source": [
    "### Information Theory\n",
    "#### A Tutorial Introduction\n",
    "- This Lecture content is based on the free chapter provided by\n",
    "- ![](imgs/Lecture-04/shannon.png)"
   ]
  },
  {
   "cell_type": "markdown",
   "metadata": {
    "slideshow": {
     "slide_type": "slide"
    }
   },
   "source": [
    "### What is Information?\n",
    "- Introduction\n",
    "- Information, Eyes and Evolution\n",
    "- Finding a Route, Bit by Bit\n",
    "- A Million Answers to Twenty Questions\n",
    "- Information, Bits and Binary Digits\n",
    "- Example 1: Telegraphy\n",
    "- Example 2: Binary Images\n",
    "- Example 3: Grey-Level Images\n",
    "- Summary"
   ]
  },
  {
   "cell_type": "markdown",
   "metadata": {},
   "source": [
    "### History\n",
    "- In 1948, Claude Shannon published a paper called **A Mathematical Theory of Communication**\n",
    "- Before Shannon's paper, information had been viewed as a kind of poorly defined miasmic fluid.\n",
    "- After Shannon's paper, it became apparent that information is a well-defined and, above all, **measurable** quantity\n",
    "- Shannon's theory of information\n",
    "  - provides a mathematical definition of information\n",
    "  - describes precisely how much information can be communicated between different elements of a system\n",
    "- Though this might not sound a much, Shannon's theory underpins our understanding of \n",
    "  - how signals and noise are related, \n",
    "  - and why there are definite limits to the rate at which information can be communicated within any system, whether man-made or biological\n",
    "- It represents one of the few examples of a single theory creating an entirely new field of research"
   ]
  },
  {
   "cell_type": "markdown",
   "metadata": {},
   "source": [
    "### Data vs. Information\n",
    "- Search Engine\n",
    "  - When a question is typed into a computer search engine, the results provide useful information but it is buried in a sea of mostly useless data\n",
    "  - In this internet age, it is easy for us to appreciate the difference between information and data\n",
    "  - we have learned to treat the information as a useful 'signal' and the rest as distracting 'noise'\n",
    "- Technically\n",
    "  - This experience is now so commonplace that technical phrases like 'signal to noise ratio' are becoming part of everday language\n",
    "  - Even though most people are unaware of the precise meaning of this phrase, they have an intuitive grasp of the idea that \n",
    "    - 'data' means a combination of 'useful' signals and 'uselss' noise\n",
    "    - The ability to separate signal from noise, to extract information from data, is crucial for modern telecommunications\n",
    "    - For example\n",
    "      - it allows a television picture to be compressed to its bare information bones\n",
    "      - and transmitted to a satellite, \n",
    "      - then to a TV, \n",
    "      - before being decompressed to reveal the original picture on the TV screen\n",
    "- This type of scenario is also ubiquitous in the natural world\n",
    "  - The ability of eyes and ears to extract useful signals from noisy sensory data\n",
    "  - and to package those signals efficiently, \n",
    "  - is the key to survival"
   ]
  },
  {
   "cell_type": "markdown",
   "metadata": {},
   "source": [
    "### Finding a Route, Bit by Bit\n",
    "- Information is usually measured in **bits**\n",
    "- One bit of information allows you to choose between two equally probable alternatives\n",
    "- The word bit is derived from **binary digit** i.e a zero or a one\n",
    "- However, as we shall see, bits and binary digits are fundamentally different types of entities!\n",
    "- Given the following figure\n",
    "- ![](imgs/Lecture-04/fig1-2.png)\n",
    "- Imagine you are standing at the fork in the road at point *A*\n",
    "- and you want to get to the point marked *D*\n",
    "- Note: this figure represents a bird's-eye view, which you do not have; all you have is a fork in front of you, and a decision to make\n",
    "- If you have no prior information about which road to choose then the fork at *A* represents two equally probable alternatives\n",
    "- If I tell you to go left then you have received one bit of information\n",
    "- If we represent my instruction with a binary digit (0 = left, 1 = right) then this binary digit provides you with one bit of information, which tells you which road to choose\n",
    "- Now, imagine that you stroll on down the road and you come to another fork, at point *B*\n",
    "- Again, because you have no idea which road to choose, a binary digit (1=right) provides one bit of information, allowing you to choose the correct road, which leads to the point marked *C*\n",
    "- Note that *C* is one of four possible interim destinations that you could have reached after making two decisions\n",
    "- The two binary digits that allow you to make the correct fecisions provided two binary digits that allow you to make the correct decisions provided two bits of information, allowing you to choose from four (equally probable) possible alternatives\n",
    "- 4 happens to equal $2 * 2 = 2 ^ {2}$\n",
    "- A third binary digit (1=right) provides you with one more bit of information, which allows you to again choose the correct road, leading to the point marked *D*\n",
    "- There are now eight roads you could have chosen from when you started at *A*, so three binary digits (which provide you with three bits of informtion) allow you to choose from eight equally probable alternatives; 8 happends to equal $2 * 2 * 2 = 2^{3}=8$\n",
    "- The decision taken at *A* excluded half of the eight possible destination in the figure that you could have arrived at.\n",
    "- Similarly, the decision taken at each successive fork in the road halved the number of remaining possible destinations"
   ]
  },
  {
   "cell_type": "markdown",
   "metadata": {
    "slideshow": {
     "slide_type": "slide"
    }
   },
   "source": [
    "### A Journey of Eight Alternatives\n",
    "- Let's summarize your journey in terms of the number of equally probable alternatives\n",
    "  - If you have 1 bit of information then you can choose between 2 equally probable alternatives (i.e. $2^{1}=2$)\n",
    "  - If you have 2 bits of information then you can choose between 4 equally probable alternatives (i.e. $2^{2}=4$)\n",
    "  - Finally, if you have 3 bits of information then you can choose between 8 equally probable alternatives (i.e. $2^{3}=8$)\n",
    "- We can restate this in more general terms if we use **n** to represent the number of forks, and **m** to represent the number of final destinations. If you have come to **n** forks, then you have effectively chosen from\n",
    "  - $m=2^{n}$ final destinations\n",
    "- Because the decision at each fork requires one bit of information, $n$ forks require n bits of information, which allow you to choose from $2^{n}$ equally probable alternatives"
   ]
  },
  {
   "cell_type": "markdown",
   "metadata": {
    "slideshow": {
     "slide_type": "subslide"
    }
   },
   "source": [
    "#### Key Point\n",
    "- One bit is the amount of information required to choose between two **equally probable** alternatives"
   ]
  },
  {
   "cell_type": "markdown",
   "metadata": {},
   "source": [
    "### Binary Numbers\n",
    "- We could label each of the eight possible destinations with a decimal number between 0 and 7, or with the equivalent **binary number**\n",
    "- Required: Review Binary to Decimal and vice versa\n",
    "- The binary representation of numbers has many advantages\n",
    "  - explicitly represents the set of left/right instructions required to reach the destination\n",
    "  - this representation can be applied to any problem that consists of making a number of two-way (i.e. binary) decisions"
   ]
  },
  {
   "cell_type": "markdown",
   "metadata": {},
   "source": [
    "### Logarithms\n",
    "- The complexity of any journey can be represented either as\n",
    "  - the number of possible final destinations, or as\n",
    "  - the number of forks in the road which must be traversed in order to reach the given destination\n",
    "- As the number of forks increases, so the number of possible destinations also increases\n",
    "- 3 forks gives $2^{3}$ possible destinations\n",
    "- From other perspective\n",
    "  - if there are $m=8$ possible destinations then how many forks $n$ does this imply?\n",
    "  - Answer: In this case, the answer is $n=3$ which is called the **logarithm** of 8\n",
    "- Generally, the logarithm of $m$ is the power to which 2 must be raised in order to obtain $m$; that is, $m=2^{n}$\n",
    "- Equivalently, given a number $m$ which we wish to express as a logarithm\n",
    "$$n=\\log_{2}m$$\n",
    "- The subscript $_{2}$ indicates that we are using logs to the base 2\n",
    "- All logarithms in our course use base 2 unless stated otherwise\n",
    "- Remember, the log you are used to is base 10 :)"
   ]
  },
  {
   "cell_type": "markdown",
   "metadata": {},
   "source": [
    "### Key Point\n",
    "- If you have $n$ bits of information, then you can choose from $m=2^{n}$ equally probable alternatives\n",
    "- Equivalently, if you have to choose between $m$ equally probable alternatives, then you need $n=log_{2}m$ bits of information"
   ]
  },
  {
   "cell_type": "markdown",
   "metadata": {},
   "source": [
    "### A Million Answers to Twenty Questions\n",
    "- The Game of 20 Questions :)\n",
    "- In this game\n",
    "  - Your opponent chooses a word (usually a noun)\n",
    "  - You (the questioner) are allowed to ask 20 questions in order to discover the identity of this word\n",
    "  - Crucially, each question must have a yes/no (i.e. binary) answer\n",
    "    - therefor, provides you with a maximum of one bit of information\n",
    "- By analogy with the navigation example, where each decision at a road fork halved the number of remaining destinations, each question should **halve** the number of remaining possible words.\n",
    "- In doing so, each answer provides you with exactly one bit of information.\n",
    "  - A question to which you already know the answer is a poor choice of question\n",
    "    - Example: Is the word in the dictionary?\n",
    "      - The answer is certainly 'yes'\n",
    "      - an answer which is predictable, and which therefore provides you with no information\n",
    "  - Conversly, a well-chosen question is one to which you have no idea whether the answer will be yes or no; in this case the answer provides exactly one bit of information"
   ]
  },
  {
   "cell_type": "markdown",
   "metadata": {},
   "source": [
    "### Challenge One\n",
    "#### Define the following Three Questions!\n",
    "\n",
    "![](imgs/Lecture-04/fig1-3.png)\n",
    "- Well, abbreviated version - The Game of 8 :)\n",
    "- Given that\n",
    "  - Your opponent has a vocabulary of exactly eight words\n",
    "  - You know which words they are"
   ]
  },
  {
   "cell_type": "markdown",
   "metadata": {},
   "source": [
    "#### Answer\n",
    "- Questions might be\n",
    "  - Q1: Is it inanimate? -> not a live object\n",
    "  - Q2: Is it a mammal?\n",
    "  - Q3: e.g. Is it cat?\n",
    "- Notes\n",
    "  - $2^{20} = 1,048,567$\n",
    "  - after the 19th Q, you shall be asking: is it {something by name} at the 20th Question\n",
    "  - Adding one more question would not only create a new game $2^{21}$\n",
    "    - it would also *double* the number of possible words - to about 2M\n",
    "  - By extension, each additional question allows you to acquire up to one more bit of information\n",
    "  - In principle, a game of '40 Qs' allows you to acquire '40 bits' of information\n",
    "     - allowing you to find $2^{40} \\approx 10^{12} words$"
   ]
  },
  {
   "cell_type": "markdown",
   "metadata": {},
   "source": [
    "### Challenge Two\n",
    "#### You are given 8 identical balls and a balance scale. One of the balls is slightly heavier than the other balls and you are asked to identify this slightly heavier ball in as few weighs as possible. The other 7 balls all weigh exactly the same."
   ]
  },
  {
   "cell_type": "markdown",
   "metadata": {},
   "source": [
    "### Challenge Three\n",
    "#### You are given 9 identical balls and a balance scale. One of the balls is slightly heavier than the other balls and you are asked to identify this slightly heavier ball in as few weighs as possible. The other 8 balls all weigh exactly the same."
   ]
  },
  {
   "cell_type": "markdown",
   "metadata": {},
   "source": [
    "### Challenge Four\n",
    "#### You are given 12 identical balls and a scale except that 1 ball is slightly heavier or lighter than the other 11 balls. What is the least number of scale measurements you need to make in order to identify which ball is the odd one out and if it is heavier or lighter than the other 11.\n",
    "- Answer\n",
    "  - Part-1: https://www.youtube.com/watch?v=dhS7lovEf1M\n",
    "  - Part-2: https://www.youtube.com/watch?v=QFelFJBiP-U&t=349s"
   ]
  },
  {
   "cell_type": "code",
   "execution_count": 1,
   "metadata": {},
   "outputs": [
    {
     "name": "stdout",
     "output_type": "stream",
     "text": [
      "[[1 2 3 4]]\n"
     ]
    }
   ],
   "source": [
    "import numpy as np \n",
    "\n",
    "a = np.array([[1,2,3,4]])\n",
    "print(a)"
   ]
  },
  {
   "cell_type": "code",
   "execution_count": null,
   "metadata": {},
   "outputs": [],
   "source": []
  },
  {
   "cell_type": "code",
   "execution_count": null,
   "metadata": {},
   "outputs": [],
   "source": []
  }
 ],
 "metadata": {
  "kernelspec": {
   "display_name": "Python 3",
   "language": "python",
   "name": "python3"
  },
  "language_info": {
   "codemirror_mode": {
    "name": "ipython",
    "version": 3
   },
   "file_extension": ".py",
   "mimetype": "text/x-python",
   "name": "python",
   "nbconvert_exporter": "python",
   "pygments_lexer": "ipython3",
   "version": "3.7.0"
  }
 },
 "nbformat": 4,
 "nbformat_minor": 2
}
